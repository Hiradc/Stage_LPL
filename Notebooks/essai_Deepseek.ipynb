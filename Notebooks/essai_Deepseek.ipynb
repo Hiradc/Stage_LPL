{
 "cells": [
  {
   "cell_type": "code",
   "execution_count": 2,
   "id": "aa1e2dec",
   "metadata": {},
   "outputs": [],
   "source": [
    "import torch"
   ]
  },
  {
   "cell_type": "code",
   "execution_count": 3,
   "id": "41273f44",
   "metadata": {},
   "outputs": [
    {
     "data": {
      "application/vnd.jupyter.widget-view+json": {
       "model_id": "13c39e6340cd4198bbb1be7d403b51db",
       "version_major": 2,
       "version_minor": 0
      },
      "text/plain": [
       "Loading checkpoint shards:   0%|          | 0/2 [00:00<?, ?it/s]"
      ]
     },
     "metadata": {},
     "output_type": "display_data"
    },
    {
     "ename": "",
     "evalue": "",
     "output_type": "error",
     "traceback": [
      "\u001b[1;31mThe Kernel crashed while executing code in the current cell or a previous cell. \n",
      "\u001b[1;31mPlease review the code in the cell(s) to identify a possible cause of the failure. \n",
      "\u001b[1;31mClick <a href='https://aka.ms/vscodeJupyterKernelCrash'>here</a> for more info. \n",
      "\u001b[1;31mView Jupyter <a href='command:jupyter.viewOutput'>log</a> for further details."
     ]
    }
   ],
   "source": [
    "from transformers import AutoTokenizer, AutoModelForCausalLM\n",
    "\n",
    "model_name = \"/srv/climagent/deepseek_model\"\n",
    "tokenizer = AutoTokenizer.from_pretrained(model_name)\n",
    "model = AutoModelForCausalLM.from_pretrained(\n",
    "    model_name,\n",
    "    torch_dtype=torch.float32,\n",
    "    device_map=\"cpu\",\n",
    ")"
   ]
  },
  {
   "cell_type": "code",
   "execution_count": 17,
   "id": "3faed272",
   "metadata": {},
   "outputs": [],
   "source": [
    "prompt = \"\"\"You are a sophisticated scientist trained in scientific research and innovation.\n",
    "\n",
    "Given the following key concepts extracted from a comprehensive knowledge graph, your task is to synthesize a novel research hypothesis. Your response should not only demonstrate deep understanding and rational thinking but also explore imaginative and unconventional applications of these concepts.\n",
    "\n",
    "Consider this list of nodes and relationships from a knowledge graph between Silk and Energy Intensive.   \n",
    " The format of the graph is \"node_1 -- relationship between node_1 and node_2 -- node_2 -- relationship between node_2 and node_3 -- node_3....\"\n",
    "\n",
    "Here is the graph:\n",
    "\n",
    "silk –> provides –> biocompatibility –> possess –> biological materials –> has –> multifunctionality –> include –>self-cleaning –> include –> multifunctionality –> broad applicability in biomaterial design –> silk –> possess –> biopolymers –> possess –> silk –> is –> fibroin –> is –> silk –> broad applicability in biomaterial design –> multifunctionality –> include –> structural coloration –> exhibited by –> insects –> are –> energy-intensive\n",
    "\n",
    "Here is an analysis of the concepts and relationships in the graph:\\\\n\\\\nDefinitions of Terms in the Knowledge Graph:\n",
    "\n",
    "- Silk: A natural protein fiber produced by silkworms and spiders, known for its mechanical strength, flexibility, and biodegradability. In scientific applications, silk refers to silk fibroin, a protein-based biomaterial.\n",
    "- Biocompatibility: The ability of a material to perform with an appropriate host response when applied in a medical context. It means the material does not provoke an immune response and integrates well with biological tissues.\n",
    "- Biological Materials: Substances that are produced by or interact with living organisms. This includes both natural and engineered materials used in biomedical applications, such as proteins, cells, and biopolymers.\n",
    "- Multifunctionality: The capacity of a material or system to perform multiple functions simultaneously. In biomaterials, this includes properties like mechanical strength, biodegradability, antimicrobial activity, and environmental responsiveness.\n",
    "- Self-cleaning: A property of materials that enables them to repel or degrade contaminants without external assistance. Often linked with hydrophobic surfaces or photocatalytic activity.\n",
    "- Broad Applicability in Biomaterial Design: The versatility of a material, such as silk, to be used across a range of applications, including tissue engineering, drug delivery, and sensors due to its adaptable properties.\n",
    "- Biopolymers: Naturally occurring polymers produced by living organisms. These include polysaccharides, proteins, and nucleic acids. Biopolymers are typically biodegradable and biocompatible.\n",
    "- Fibroin: The structural protein that forms the core of silk fibers, known for its crystalline β-sheet structure, which provides strength and stability to silk materials.\n",
    "- Structural Coloration: A color-producing mechanism caused by micro- or nanostructures that interfere with light rather than by pigments. Found in butterfly wings and beetle shells.\n",
    "- Insects: A class of arthropods characterized by three-part bodies, exoskeletons, and six legs. Many exhibit structural coloration due to microscopic surface structures.\n",
    "- Energy-Intensive: Processes or organisms that require high amounts of energy for their biological functions. Insects with complex optical nanostructures for structural coloration often require significant metabolic energy for development.\n",
    "\n",
    "---\n",
    "\n",
    "Discussion of Relationships in the Knowledge Graph:\n",
    "\n",
    "- Silk → provides → biocompatibility: Silk exhibits high biocompatibility, making it suitable for medical and tissue engineering applications. This is due to its natural origin, minimal immune response, and ability to degrade harmlessly in the body.\n",
    "- Biocompatibility → possess → biological materials: Biocompatibility is a defining property of many biological materials used in medicine. These materials interact safely and effectively with biological systems.\n",
    "- Biological materials → has → multifunctionality: Many biological materials are multifunctional, enabling them to perform various roles, such as structural support, signaling, or interaction with cells.\n",
    "- Multifunctionality → include → self-cleaning: One functional attribute that biological materials can exhibit is self-cleaning, which enhances longevity and reduces maintenance, especially in biomaterials exposed to biological environments.\n",
    "- Self-cleaning → include → multifunctionality: This recursive structure suggests self-cleaning is not only a product of multifunctionality but also a contributor to a broader multifunctional profile in materials.\n",
    "- Multifunctionality → broad applicability in biomaterial design → silk: The multifunctionality of silk underpins its wide-ranging use in biomaterial design. This includes uses in wound dressings, scaffolds, and optical devices.\n",
    "- Silk → possess → biopolymers: Silk itself is composed of biopolymers—specifically, proteins such as fibroin. These polymers contribute to its mechanical and biological properties.\n",
    "- Biopolymers → possess → silk: Silk, as a biopolymer-based material, exemplifies the properties and potential of biopolymers in engineering contexts.\n",
    "- Silk → is → fibroin: Fibroin is the core protein component of silk fibers. It defines the structural and functional attributes of silk, especially its mechanical strength and biodegradability.\n",
    "- Silk → broad applicability in biomaterial design → multifunctionality: Again reinforcing that the multifunctional nature of silk enables its integration into diverse biomedical and engineering applications.\n",
    "- Multifunctionality → include → structural coloration: Among its multifunctional features, silk can exhibit or be engineered to display structural coloration, relevant in optics and responsive materials.\n",
    "- Structural coloration → exhibited by → insects: Structural coloration is naturally present in insects, such as butterflies and beetles, due to nanostructures on their surfaces.\n",
    "- Insects → are → energy-intensive: The biological production of structural coloration in insects is metabolically demanding, reflecting a significant energy investment in these micro/nanostructures.\\\\n\\\\n\n",
    "\n",
    "Analyze the graph deeply and carefully, then craft a detailed research hypothesis that investigates a likely groundbreaking aspect that incorporates EACH of these concepts. Consider the implications of your hypothesis and predict the outcome or behavior that might result from this line of investigation. Your creativity in linking these concepts to address unsolved problems or propose new, unexplored areas of study, emergent or unexpected behaviors, will be highly valued.\n",
    "\n",
    "Be as quantitative as possible and include details such as numbers, sequences, or chemical formulas. Please structure your response in JSON format, with SEVEN keys:\n",
    "\n",
    "\"hypothesis\" clearly delineates the hypothesis at the basis for the proposed research question.\n",
    "\n",
    "Ensure your scientific hypothesis is both innovative and grounded in logical reasoning, capable of advancing our understanding or application of the concepts provided.\n",
    "\n",
    "Here is an example structure for your response, in JSON format:\n",
    "\n",
    "{{ \"hypothesis\": \"...\"}}\n",
    "\n",
    "Remember, the value of your response is as scientific discovery, new avenues of scientific inquiry and potential technological breakthroughs, with details and solid reasoning.\n",
    "\n",
    "Make sure to incorporate EACH of the concepts in the knowledge graph in your response.\"\"\""
   ]
  },
  {
   "cell_type": "code",
   "execution_count": 10,
   "id": "345b08f6",
   "metadata": {},
   "outputs": [],
   "source": [
    "prompt = \"who are you ?\""
   ]
  },
  {
   "cell_type": "code",
   "execution_count": 20,
   "id": "2d9b3b2c",
   "metadata": {},
   "outputs": [
    {
     "name": "stdout",
     "output_type": "stream",
     "text": [
      "Prompt length: 1559 tokens\n"
     ]
    }
   ],
   "source": [
    "input_ids = tokenizer(prompt, return_tensors=\"pt\")[\"input_ids\"]\n",
    "print(f\"Prompt length: {input_ids.shape[-1]} tokens\")"
   ]
  },
  {
   "cell_type": "code",
   "execution_count": null,
   "id": "1184a9ed",
   "metadata": {},
   "outputs": [
    {
     "name": "stderr",
     "output_type": "stream",
     "text": [
      "Device set to use cpu\n"
     ]
    }
   ],
   "source": [
    "from transformers import pipeline\n",
    "nlp_pipeline = pipeline(\"text-generation\", model=model, tokenizer=tokenizer)\n",
    "response = nlp_pipeline(prompt, max_new_tokens=64, num_return_sequences=1, do_sample=True, temperature=0.5)"
   ]
  },
  {
   "cell_type": "code",
   "execution_count": 22,
   "id": "8452720e",
   "metadata": {},
   "outputs": [
    {
     "name": "stdout",
     "output_type": "stream",
     "text": [
      "You are a sophisticated scientist trained in scientific research and innovation.\n",
      "\n",
      "Given the following key concepts extracted from a comprehensive knowledge graph, your task is to synthesize a novel research hypothesis. Your response should not only demonstrate deep understanding and rational thinking but also explore imaginative and unconventional applications of these concepts.\n",
      "\n",
      "Consider this list of nodes and relationships from a knowledge graph between Silk and Energy Intensive.   \n",
      " The format of the graph is \"node_1 -- relationship between node_1 and node_2 -- node_2 -- relationship between node_2 and node_3 -- node_3....\"\n",
      "\n",
      "Here is the graph:\n",
      "\n",
      "silk –> provides –> biocompatibility –> possess –> biological materials –> has –> multifunctionality –> include –>self-cleaning –> include –> multifunctionality –> broad applicability in biomaterial design –> silk –> possess –> biopolymers –> possess –> silk –> is –> fibroin –> is –> silk –> broad applicability in biomaterial design –> multifunctionality –> include –> structural coloration –> exhibited by –> insects –> are –> energy-intensive\n",
      "\n",
      "Here is an analysis of the concepts and relationships in the graph:\\n\\nDefinitions of Terms in the Knowledge Graph:\n",
      "\n",
      "- Silk: A natural protein fiber produced by silkworms and spiders, known for its mechanical strength, flexibility, and biodegradability. In scientific applications, silk refers to silk fibroin, a protein-based biomaterial.\n",
      "- Biocompatibility: The ability of a material to perform with an appropriate host response when applied in a medical context. It means the material does not provoke an immune response and integrates well with biological tissues.\n",
      "- Biological Materials: Substances that are produced by or interact with living organisms. This includes both natural and engineered materials used in biomedical applications, such as proteins, cells, and biopolymers.\n",
      "- Multifunctionality: The capacity of a material or system to perform multiple functions simultaneously. In biomaterials, this includes properties like mechanical strength, biodegradability, antimicrobial activity, and environmental responsiveness.\n",
      "- Self-cleaning: A property of materials that enables them to repel or degrade contaminants without external assistance. Often linked with hydrophobic surfaces or photocatalytic activity.\n",
      "- Broad Applicability in Biomaterial Design: The versatility of a material, such as silk, to be used across a range of applications, including tissue engineering, drug delivery, and sensors due to its adaptable properties.\n",
      "- Biopolymers: Naturally occurring polymers produced by living organisms. These include polysaccharides, proteins, and nucleic acids. Biopolymers are typically biodegradable and biocompatible.\n",
      "- Fibroin: The structural protein that forms the core of silk fibers, known for its crystalline β-sheet structure, which provides strength and stability to silk materials.\n",
      "- Structural Coloration: A color-producing mechanism caused by micro- or nanostructures that interfere with light rather than by pigments. Found in butterfly wings and beetle shells.\n",
      "- Insects: A class of arthropods characterized by three-part bodies, exoskeletons, and six legs. Many exhibit structural coloration due to microscopic surface structures.\n",
      "- Energy-Intensive: Processes or organisms that require high amounts of energy for their biological functions. Insects with complex optical nanostructures for structural coloration often require significant metabolic energy for development.\n",
      "\n",
      "---\n",
      "\n",
      "Discussion of Relationships in the Knowledge Graph:\n",
      "\n",
      "- Silk → provides → biocompatibility: Silk exhibits high biocompatibility, making it suitable for medical and tissue engineering applications. This is due to its natural origin, minimal immune response, and ability to degrade harmlessly in the body.\n",
      "- Biocompatibility → possess → biological materials: Biocompatibility is a defining property of many biological materials used in medicine. These materials interact safely and effectively with biological systems.\n",
      "- Biological materials → has → multifunctionality: Many biological materials are multifunctional, enabling them to perform various roles, such as structural support, signaling, or interaction with cells.\n",
      "- Multifunctionality → include → self-cleaning: One functional attribute that biological materials can exhibit is self-cleaning, which enhances longevity and reduces maintenance, especially in biomaterials exposed to biological environments.\n",
      "- Self-cleaning → include → multifunctionality: This recursive structure suggests self-cleaning is not only a product of multifunctionality but also a contributor to a broader multifunctional profile in materials.\n",
      "- Multifunctionality → broad applicability in biomaterial design → silk: The multifunctionality of silk underpins its wide-ranging use in biomaterial design. This includes uses in wound dressings, scaffolds, and optical devices.\n",
      "- Silk → possess → biopolymers: Silk itself is composed of biopolymers—specifically, proteins such as fibroin. These polymers contribute to its mechanical and biological properties.\n",
      "- Biopolymers → possess → silk: Silk, as a biopolymer-based material, exemplifies the properties and potential of biopolymers in engineering contexts.\n",
      "- Silk → is → fibroin: Fibroin is the core protein component of silk fibers. It defines the structural and functional attributes of silk, especially its mechanical strength and biodegradability.\n",
      "- Silk → broad applicability in biomaterial design → multifunctionality: Again reinforcing that the multifunctional nature of silk enables its integration into diverse biomedical and engineering applications.\n",
      "- Multifunctionality → include → structural coloration: Among its multifunctional features, silk can exhibit or be engineered to display structural coloration, relevant in optics and responsive materials.\n",
      "- Structural coloration → exhibited by → insects: Structural coloration is naturally present in insects, such as butterflies and beetles, due to nanostructures on their surfaces.\n",
      "- Insects → are → energy-intensive: The biological production of structural coloration in insects is metabolically demanding, reflecting a significant energy investment in these micro/nanostructures.\\n\\n\n",
      "\n",
      "Analyze the graph deeply and carefully, then craft a detailed research hypothesis that investigates a likely groundbreaking aspect that incorporates EACH of these concepts. Consider the implications of your hypothesis and predict the outcome or behavior that might result from this line of investigation. Your creativity in linking these concepts to address unsolved problems or propose new, unexplored areas of study, emergent or unexpected behaviors, will be highly valued.\n",
      "\n",
      "Be as quantitative as possible and include details such as numbers, sequences, or chemical formulas. Please structure your response in JSON format, with SEVEN keys:\n",
      "\n",
      "\"hypothesis\" clearly delineates the hypothesis at the basis for the proposed research question.\n",
      "\n",
      "Ensure your scientific hypothesis is both innovative and grounded in logical reasoning, capable of advancing our understanding or application of the concepts provided.\n",
      "\n",
      "Here is an example structure for your response, in JSON format:\n",
      "\n",
      "{{ \"hypothesis\": \"...\"}}\n",
      "\n",
      "Remember, the value of your response is as scientific discovery, new avenues of scientific inquiry and potential technological breakthroughs, with details and solid reasoning.\n",
      "\n",
      "Make sure to incorporate EACH of the concepts in the knowledge graph in your response.\n"
     ]
    }
   ],
   "source": [
    "print(response[0]['generated_text'])"
   ]
  }
 ],
 "metadata": {
  "kernelspec": {
   "display_name": ".venv",
   "language": "python",
   "name": "python3"
  },
  "language_info": {
   "codemirror_mode": {
    "name": "ipython",
    "version": 3
   },
   "file_extension": ".py",
   "mimetype": "text/x-python",
   "name": "python",
   "nbconvert_exporter": "python",
   "pygments_lexer": "ipython3",
   "version": "3.11.2"
  }
 },
 "nbformat": 4,
 "nbformat_minor": 5
}
